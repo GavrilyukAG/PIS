{
 "cells": [
  {
   "cell_type": "code",
   "execution_count": 3,
   "metadata": {},
   "outputs": [],
   "source": [
    "import tensorflow as tf\n",
    "from tensorflow.keras import datasets, layers, models"
   ]
  },
  {
   "cell_type": "code",
   "execution_count": 7,
   "metadata": {},
   "outputs": [],
   "source": [
    "(train_images, train_labels), (test_images, test_labels) = datasets.cifar10.load_data()\n",
    "\n",
    "# Normalize pixel values to be between 0 and 1\n",
    "train_images, test_images = train_images / 255.0, test_images / 255.0"
   ]
  },
  {
   "cell_type": "code",
   "execution_count": 14,
   "metadata": {
    "scrolled": false
   },
   "outputs": [],
   "source": [
    "model = models.Sequential()\n",
    "\n",
    "model.add(layers.Conv2D(32, (3, 3), activation='relu', input_shape=(32, 32, 3)))\n",
    "model.add(layers.MaxPooling2D((2, 2)))\n",
    "\n",
    "model.add(layers.Conv2D(64, (3, 3), activation='relu'))\n",
    "model.add(layers.MaxPooling2D((2, 2)))\n",
    "\n",
    "model.add(layers.Conv2D(64, (3, 3), activation='relu'))"
   ]
  },
  {
   "cell_type": "code",
   "execution_count": 15,
   "metadata": {},
   "outputs": [],
   "source": [
    "model.add(layers.Flatten())\n",
    "model.add(layers.Dense(64, activation='relu'))\n",
    "model.add(layers.Dense(10))"
   ]
  },
  {
   "cell_type": "code",
   "execution_count": 16,
   "metadata": {},
   "outputs": [
    {
     "name": "stdout",
     "output_type": "stream",
     "text": [
      "Model: \"sequential_2\"\n",
      "_________________________________________________________________\n",
      "Layer (type)                 Output Shape              Param #   \n",
      "=================================================================\n",
      "conv2d_6 (Conv2D)            (None, 30, 30, 32)        896       \n",
      "_________________________________________________________________\n",
      "max_pooling2d_4 (MaxPooling2 (None, 15, 15, 32)        0         \n",
      "_________________________________________________________________\n",
      "conv2d_7 (Conv2D)            (None, 13, 13, 64)        18496     \n",
      "_________________________________________________________________\n",
      "max_pooling2d_5 (MaxPooling2 (None, 6, 6, 64)          0         \n",
      "_________________________________________________________________\n",
      "conv2d_8 (Conv2D)            (None, 4, 4, 64)          36928     \n",
      "_________________________________________________________________\n",
      "flatten_1 (Flatten)          (None, 1024)              0         \n",
      "_________________________________________________________________\n",
      "dense_2 (Dense)              (None, 64)                65600     \n",
      "_________________________________________________________________\n",
      "dense_3 (Dense)              (None, 10)                650       \n",
      "=================================================================\n",
      "Total params: 122,570\n",
      "Trainable params: 122,570\n",
      "Non-trainable params: 0\n",
      "_________________________________________________________________\n"
     ]
    }
   ],
   "source": [
    "model.summary()"
   ]
  },
  {
   "cell_type": "code",
   "execution_count": 17,
   "metadata": {},
   "outputs": [
    {
     "name": "stdout",
     "output_type": "stream",
     "text": [
      "Train on 50000 samples, validate on 10000 samples\n",
      "Epoch 1/10\n",
      "50000/50000 [==============================] - 27s 539us/sample - loss: 1.5374 - acc: 0.4405 - val_loss: 1.2657 - val_acc: 0.5395\n",
      "Epoch 2/10\n",
      "50000/50000 [==============================] - 25s 504us/sample - loss: 1.1755 - acc: 0.5828 - val_loss: 1.1545 - val_acc: 0.5960\n",
      "Epoch 3/10\n",
      "50000/50000 [==============================] - 27s 538us/sample - loss: 1.0285 - acc: 0.6359 - val_loss: 1.0102 - val_acc: 0.6403\n",
      "Epoch 4/10\n",
      "50000/50000 [==============================] - 27s 549us/sample - loss: 0.9377 - acc: 0.6710 - val_loss: 1.0186 - val_acc: 0.6471\n",
      "Epoch 5/10\n",
      "50000/50000 [==============================] - 26s 523us/sample - loss: 0.8670 - acc: 0.6976 - val_loss: 0.9109 - val_acc: 0.6790\n",
      "Epoch 6/10\n",
      "50000/50000 [==============================] - 26s 513us/sample - loss: 0.8085 - acc: 0.7169 - val_loss: 0.9025 - val_acc: 0.6898\n",
      "Epoch 7/10\n",
      "50000/50000 [==============================] - 25s 507us/sample - loss: 0.7676 - acc: 0.7304 - val_loss: 0.9130 - val_acc: 0.6825\n",
      "Epoch 8/10\n",
      "50000/50000 [==============================] - 25s 501us/sample - loss: 0.7205 - acc: 0.7457 - val_loss: 0.8833 - val_acc: 0.6995\n",
      "Epoch 9/10\n",
      "50000/50000 [==============================] - 25s 496us/sample - loss: 0.6836 - acc: 0.7598 - val_loss: 0.8593 - val_acc: 0.7045\n",
      "Epoch 10/10\n",
      "50000/50000 [==============================] - 25s 509us/sample - loss: 0.6442 - acc: 0.7726 - val_loss: 0.8810 - val_acc: 0.7050\n"
     ]
    }
   ],
   "source": [
    "model.compile(optimizer='adam',\n",
    "              loss=tf.keras.losses.SparseCategoricalCrossentropy(from_logits=True),\n",
    "              metrics=['accuracy'])\n",
    "\n",
    "history = model.fit(train_images, train_labels, epochs=10, \n",
    "                    validation_data=(test_images, test_labels))"
   ]
  },
  {
   "cell_type": "code",
   "execution_count": null,
   "metadata": {},
   "outputs": [],
   "source": []
  }
 ],
 "metadata": {
  "kernelspec": {
   "display_name": "Python 3",
   "language": "python",
   "name": "python3"
  },
  "language_info": {
   "codemirror_mode": {
    "name": "ipython",
    "version": 3
   },
   "file_extension": ".py",
   "mimetype": "text/x-python",
   "name": "python",
   "nbconvert_exporter": "python",
   "pygments_lexer": "ipython3",
   "version": "3.7.5"
  }
 },
 "nbformat": 4,
 "nbformat_minor": 4
}
