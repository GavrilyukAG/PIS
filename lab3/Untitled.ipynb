{
 "cells": [
  {
   "cell_type": "code",
   "execution_count": 1,
   "metadata": {},
   "outputs": [],
   "source": [
    "import tensorflow as tf\n",
    "from tensorflow.examples.tutorials.mnist import input_data\n",
    "import numpy as np\n",
    "import time"
   ]
  },
  {
   "cell_type": "code",
   "execution_count": 2,
   "metadata": {},
   "outputs": [],
   "source": [
    "def weight_variable(shape):\n",
    "    initial = tf.truncated_normal(shape, stddev=0.1)\n",
    "    return tf.Variable(initial)\n",
    "\n",
    "\n",
    "def bias_variable(shape):\n",
    "    initial = tf.constant(0.1, shape=shape)\n",
    "    return tf.Variable(initial)\n",
    "\n",
    "\n",
    "def conv2d(x, W):\n",
    "    return tf.nn.conv2d(x, W, strides=[1, 1, 1, 1], padding=\"SAME\")\n",
    "\n",
    "\n",
    "def max_pool_2x2(x):\n",
    "    return tf.nn.max_pool(\n",
    "        x, ksize=[1, 2, 2, 1], strides=[1, 2, 2, 1], padding=\"SAME\"\n",
    "    )\n",
    "\n",
    "\n",
    "def conv_layer(input, shape):\n",
    "    W = weight_variable(shape)\n",
    "    b = bias_variable([shape[3]])\n",
    "    return tf.nn.relu(conv2d(input, W) + b)\n",
    "\n",
    "\n",
    "def full_layer(input, size):\n",
    "    in_size = int(input.get_shape()[1])\n",
    "    W = weight_variable([in_size, size])\n",
    "    b = bias_variable([size])\n",
    "    return tf.matmul(input, W) + b"
   ]
  },
  {
   "cell_type": "code",
   "execution_count": 5,
   "metadata": {},
   "outputs": [
    {
     "name": "stdout",
     "output_type": "stream",
     "text": [
      "INFO:tensorflow:Summary name  cross_entropy_loss is illegal; using _cross_entropy_loss instead.\n",
      "Successfully downloaded train-images-idx3-ubyte.gz 9912422 bytes.\n",
      "Extracting tmp/data/train-images-idx3-ubyte.gz\n",
      "Successfully downloaded train-labels-idx1-ubyte.gz 28881 bytes.\n",
      "Extracting tmp/data/train-labels-idx1-ubyte.gz\n",
      "Successfully downloaded t10k-images-idx3-ubyte.gz 1648877 bytes.\n",
      "Extracting tmp/data/t10k-images-idx3-ubyte.gz\n",
      "Successfully downloaded t10k-labels-idx1-ubyte.gz 4542 bytes.\n",
      "Extracting tmp/data/t10k-labels-idx1-ubyte.gz\n"
     ]
    }
   ],
   "source": [
    "x = tf.placeholder(tf.float32, shape=[None, 784])\n",
    "y_ = tf.placeholder(tf.float32, shape=[None, 10])\n",
    "keep_prob = tf.placeholder(tf.float32)\n",
    "x_image = tf.reshape(x, [-1, 28, 28, 1])\n",
    "\n",
    "with tf.name_scope(\"conv_1\"):\n",
    "    conv1 = conv_layer(x_image, shape=[5, 5, 1, 32])\n",
    "    conv1_pool = max_pool_2x2(conv1)\n",
    "\n",
    "with tf.name_scope(\"conv_2\"):\n",
    "    conv2 = conv_layer(conv1_pool, shape=[5, 5, 32, 64])\n",
    "    conv2_pool = max_pool_2x2(conv2)\n",
    "    conv2_flat = tf.reshape(conv2_pool, [-1, 7 * 7 * 64])\n",
    "\n",
    "with tf.name_scope(\"full_1\"):\n",
    "    full_1 = tf.nn.relu(full_layer(conv2_flat, 1024))\n",
    "\n",
    "with tf.name_scope(\"dropout\"):\n",
    "    full1_drop = tf.nn.dropout(full_1, keep_prob=keep_prob)\n",
    "\n",
    "with tf.name_scope(\"activations\"):\n",
    "    y_conv = full_layer(full1_drop, 10)\n",
    "    tf.summary.scalar(\"cross_entropy_loss\", y_conv )\n",
    "    mnist = input_data.read_data_sets(\"tmp/data\", one_hot=True )\n",
    "\n",
    "with tf.name_scope(\"cross\"):\n",
    "    cross_entropy = tf.reduce_mean(\n",
    "        tf.nn.softmax_cross_entropy_with_logits_v2(\n",
    "            logits=y_conv, labels=y_\n",
    "        )\n",
    "    )  "
   ]
  },
  {
   "cell_type": "code",
   "execution_count": 8,
   "metadata": {},
   "outputs": [
    {
     "name": "stdout",
     "output_type": "stream",
     "text": [
      "time 0.038308143615722656 , step 0 , training accuracy 0.07999999821186066\n",
      "time 4.743762969970703 , step 100 , training accuracy 0.18000000715255737\n",
      "time 9.155816078186035 , step 200 , training accuracy 0.2199999988079071\n",
      "time 13.745874166488647 , step 300 , training accuracy 0.2800000011920929\n",
      "time 18.56551504135132 , step 400 , training accuracy 0.3799999952316284\n",
      "time 23.645045042037964 , step 500 , training accuracy 0.5\n",
      "time 28.550722122192383 , step 600 , training accuracy 0.5\n",
      "time 33.06458401679993 , step 700 , training accuracy 0.6000000238418579\n",
      "time 37.533385038375854 , step 800 , training accuracy 0.5\n",
      "time 42.13263010978699 , step 900 , training accuracy 0.6000000238418579\n",
      "time 46.84612512588501 , step 1000 , training accuracy 0.6200000047683716\n",
      "time 51.73351311683655 , step 1100 , training accuracy 0.699999988079071\n",
      "time 56.59836220741272 , step 1200 , training accuracy 0.5799999833106995\n",
      "time 61.7056040763855 , step 1300 , training accuracy 0.6800000071525574\n",
      "time 66.64538407325745 , step 1400 , training accuracy 0.5199999809265137\n",
      "time 73.04788303375244 , step 1500 , training accuracy 0.6600000262260437\n",
      "time 81.62339520454407 , step 1600 , training accuracy 0.7599999904632568\n",
      "time 88.5103030204773 , step 1700 , training accuracy 0.7400000095367432\n",
      "time 93.90499520301819 , step 1800 , training accuracy 0.8799999952316284\n",
      "time 99.04077219963074 , step 1900 , training accuracy 0.6399999856948853\n",
      "time 104.54360723495483 , step 2000 , training accuracy 0.8600000143051147\n",
      "time 110.1372799873352 , step 2100 , training accuracy 0.7799999713897705\n",
      "time 115.7701199054718 , step 2200 , training accuracy 0.7200000286102295\n",
      "time 121.22779321670532 , step 2300 , training accuracy 0.699999988079071\n",
      "time 126.46006512641907 , step 2400 , training accuracy 0.7400000095367432\n",
      "time 131.56500720977783 , step 2500 , training accuracy 0.7599999904632568\n",
      "time 136.65588307380676 , step 2600 , training accuracy 0.699999988079071\n",
      "time 141.95982313156128 , step 2700 , training accuracy 0.8199999928474426\n",
      "time 147.3960680961609 , step 2800 , training accuracy 0.800000011920929\n",
      "time 152.5595941543579 , step 2900 , training accuracy 0.7799999713897705\n",
      "time 158.1523151397705 , step 3000 , training accuracy 0.7799999713897705\n",
      "time 163.47411727905273 , step 3100 , training accuracy 0.7200000286102295\n",
      "time 168.77319812774658 , step 3200 , training accuracy 0.7799999713897705\n",
      "time 173.79173707962036 , step 3300 , training accuracy 0.7799999713897705\n",
      "time 179.43212699890137 , step 3400 , training accuracy 0.8799999952316284\n",
      "time 184.96980714797974 , step 3500 , training accuracy 0.7799999713897705\n",
      "time 190.5053551197052 , step 3600 , training accuracy 0.7599999904632568\n",
      "time 195.7456681728363 , step 3700 , training accuracy 0.8399999737739563\n",
      "time 201.15543413162231 , step 3800 , training accuracy 0.7799999713897705\n",
      "time 206.39540934562683 , step 3900 , training accuracy 0.7799999713897705\n",
      "time 211.53483414649963 , step 4000 , training accuracy 0.8399999737739563\n",
      "time 216.76632499694824 , step 4100 , training accuracy 0.8600000143051147\n",
      "time 221.84181809425354 , step 4200 , training accuracy 0.9200000166893005\n",
      "time 226.8857810497284 , step 4300 , training accuracy 0.7799999713897705\n",
      "time 232.10481715202332 , step 4400 , training accuracy 0.9200000166893005\n",
      "time 237.4410481452942 , step 4500 , training accuracy 0.7799999713897705\n",
      "time 242.7712161540985 , step 4600 , training accuracy 0.8199999928474426\n",
      "time 248.03390622138977 , step 4700 , training accuracy 0.8799999952316284\n",
      "time 253.28331327438354 , step 4800 , training accuracy 0.8199999928474426\n",
      "time 259.04992628097534 , step 4900 , training accuracy 0.8799999952316284\n",
      "time 264.8913290500641 , step 5000 , training accuracy 0.8199999928474426\n",
      "time 270.6083221435547 , step 5100 , training accuracy 0.8799999952316284\n",
      "time 275.75561809539795 , step 5200 , training accuracy 0.8600000143051147\n",
      "time 280.9495339393616 , step 5300 , training accuracy 0.8199999928474426\n",
      "time 286.2334370613098 , step 5400 , training accuracy 0.8600000143051147\n",
      "time 291.4939992427826 , step 5500 , training accuracy 0.8799999952316284\n",
      "time 296.85193514823914 , step 5600 , training accuracy 0.8399999737739563\n",
      "time 302.68839406967163 , step 5700 , training accuracy 0.7799999713897705\n",
      "time 308.8298969268799 , step 5800 , training accuracy 0.8999999761581421\n",
      "time 315.15107107162476 , step 5900 , training accuracy 0.7200000286102295\n",
      "time 320.6673352718353 , step 6000 , training accuracy 0.8600000143051147\n",
      "time 326.2736282348633 , step 6100 , training accuracy 0.8799999952316284\n",
      "time 331.6872091293335 , step 6200 , training accuracy 0.7400000095367432\n",
      "time 337.7433731555939 , step 6300 , training accuracy 0.8199999928474426\n",
      "time 344.2480173110962 , step 6400 , training accuracy 0.7799999713897705\n",
      "time 350.27587723731995 , step 6500 , training accuracy 0.800000011920929\n",
      "time 355.8114161491394 , step 6600 , training accuracy 0.8600000143051147\n",
      "time 361.0628011226654 , step 6700 , training accuracy 0.8399999737739563\n",
      "time 366.18294405937195 , step 6800 , training accuracy 0.8999999761581421\n",
      "time 371.40641713142395 , step 6900 , training accuracy 0.9399999976158142\n",
      "time 376.983638048172 , step 7000 , training accuracy 0.8399999737739563\n",
      "time 382.8261229991913 , step 7100 , training accuracy 0.8799999952316284\n",
      "time 388.20909810066223 , step 7200 , training accuracy 0.9200000166893005\n",
      "time 393.1173391342163 , step 7300 , training accuracy 0.8799999952316284\n",
      "time 398.109735250473 , step 7400 , training accuracy 0.8399999737739563\n",
      "time 403.29050493240356 , step 7500 , training accuracy 0.8999999761581421\n",
      "time 408.4294590950012 , step 7600 , training accuracy 0.6800000071525574\n",
      "time 413.5183401107788 , step 7700 , training accuracy 0.8799999952316284\n",
      "time 418.65288615226746 , step 7800 , training accuracy 0.800000011920929\n",
      "time 423.70413422584534 , step 7900 , training accuracy 0.9200000166893005\n",
      "time 428.8745641708374 , step 8000 , training accuracy 0.8999999761581421\n",
      "time 434.0153522491455 , step 8100 , training accuracy 0.8600000143051147\n",
      "time 439.25636315345764 , step 8200 , training accuracy 0.9200000166893005\n"
     ]
    },
    {
     "ename": "KeyboardInterrupt",
     "evalue": "",
     "output_type": "error",
     "traceback": [
      "\u001b[0;31m---------------------------------------------------------------------------\u001b[0m",
      "\u001b[0;31mKeyboardInterrupt\u001b[0m                         Traceback (most recent call last)",
      "\u001b[0;32m<ipython-input-8-95ef9cce754f>\u001b[0m in \u001b[0;36m<module>\u001b[0;34m\u001b[0m\n\u001b[1;32m     17\u001b[0m                 \u001b[0mtime\u001b[0m\u001b[0;34m.\u001b[0m\u001b[0mtime\u001b[0m\u001b[0;34m(\u001b[0m\u001b[0;34m)\u001b[0m \u001b[0;34m-\u001b[0m \u001b[0mstart_time\u001b[0m\u001b[0;34m,\u001b[0m \u001b[0mi\u001b[0m\u001b[0;34m,\u001b[0m \u001b[0mtrain_accuracy\u001b[0m\u001b[0;34m\u001b[0m\u001b[0;34m\u001b[0m\u001b[0m\n\u001b[1;32m     18\u001b[0m             ))\n\u001b[0;32m---> 19\u001b[0;31m         \u001b[0msess\u001b[0m\u001b[0;34m.\u001b[0m\u001b[0mrun\u001b[0m\u001b[0;34m(\u001b[0m\u001b[0mtrain_step\u001b[0m\u001b[0;34m,\u001b[0m \u001b[0mfeed_dict\u001b[0m\u001b[0;34m=\u001b[0m\u001b[0;34m{\u001b[0m\u001b[0mx\u001b[0m\u001b[0;34m:\u001b[0m \u001b[0mbatch\u001b[0m\u001b[0;34m[\u001b[0m\u001b[0;36m0\u001b[0m\u001b[0;34m]\u001b[0m\u001b[0;34m,\u001b[0m \u001b[0my_\u001b[0m\u001b[0;34m:\u001b[0m \u001b[0mbatch\u001b[0m\u001b[0;34m[\u001b[0m\u001b[0;36m1\u001b[0m\u001b[0;34m]\u001b[0m\u001b[0;34m,\u001b[0m \u001b[0mkeep_prob\u001b[0m\u001b[0;34m:\u001b[0m \u001b[0;36m0.5\u001b[0m\u001b[0;34m}\u001b[0m\u001b[0;34m)\u001b[0m\u001b[0;34m\u001b[0m\u001b[0;34m\u001b[0m\u001b[0m\n\u001b[0m\u001b[1;32m     20\u001b[0m \u001b[0;34m\u001b[0m\u001b[0m\n\u001b[1;32m     21\u001b[0m     \u001b[0mX\u001b[0m \u001b[0;34m=\u001b[0m \u001b[0mmnist\u001b[0m\u001b[0;34m.\u001b[0m\u001b[0mtest\u001b[0m\u001b[0;34m.\u001b[0m\u001b[0mimages\u001b[0m\u001b[0;34m.\u001b[0m\u001b[0mreshape\u001b[0m\u001b[0;34m(\u001b[0m\u001b[0;36m10\u001b[0m\u001b[0;34m,\u001b[0m \u001b[0;36m1000\u001b[0m\u001b[0;34m,\u001b[0m \u001b[0;36m784\u001b[0m\u001b[0;34m)\u001b[0m\u001b[0;34m\u001b[0m\u001b[0;34m\u001b[0m\u001b[0m\n",
      "\u001b[0;32m~/Учеба/Мага/giis/env/lib/python3.7/site-packages/tensorflow_core/python/client/session.py\u001b[0m in \u001b[0;36mrun\u001b[0;34m(self, fetches, feed_dict, options, run_metadata)\u001b[0m\n\u001b[1;32m    954\u001b[0m     \u001b[0;32mtry\u001b[0m\u001b[0;34m:\u001b[0m\u001b[0;34m\u001b[0m\u001b[0;34m\u001b[0m\u001b[0m\n\u001b[1;32m    955\u001b[0m       result = self._run(None, fetches, feed_dict, options_ptr,\n\u001b[0;32m--> 956\u001b[0;31m                          run_metadata_ptr)\n\u001b[0m\u001b[1;32m    957\u001b[0m       \u001b[0;32mif\u001b[0m \u001b[0mrun_metadata\u001b[0m\u001b[0;34m:\u001b[0m\u001b[0;34m\u001b[0m\u001b[0;34m\u001b[0m\u001b[0m\n\u001b[1;32m    958\u001b[0m         \u001b[0mproto_data\u001b[0m \u001b[0;34m=\u001b[0m \u001b[0mtf_session\u001b[0m\u001b[0;34m.\u001b[0m\u001b[0mTF_GetBuffer\u001b[0m\u001b[0;34m(\u001b[0m\u001b[0mrun_metadata_ptr\u001b[0m\u001b[0;34m)\u001b[0m\u001b[0;34m\u001b[0m\u001b[0;34m\u001b[0m\u001b[0m\n",
      "\u001b[0;32m~/Учеба/Мага/giis/env/lib/python3.7/site-packages/tensorflow_core/python/client/session.py\u001b[0m in \u001b[0;36m_run\u001b[0;34m(self, handle, fetches, feed_dict, options, run_metadata)\u001b[0m\n\u001b[1;32m   1178\u001b[0m     \u001b[0;32mif\u001b[0m \u001b[0mfinal_fetches\u001b[0m \u001b[0;32mor\u001b[0m \u001b[0mfinal_targets\u001b[0m \u001b[0;32mor\u001b[0m \u001b[0;34m(\u001b[0m\u001b[0mhandle\u001b[0m \u001b[0;32mand\u001b[0m \u001b[0mfeed_dict_tensor\u001b[0m\u001b[0;34m)\u001b[0m\u001b[0;34m:\u001b[0m\u001b[0;34m\u001b[0m\u001b[0;34m\u001b[0m\u001b[0m\n\u001b[1;32m   1179\u001b[0m       results = self._do_run(handle, final_targets, final_fetches,\n\u001b[0;32m-> 1180\u001b[0;31m                              feed_dict_tensor, options, run_metadata)\n\u001b[0m\u001b[1;32m   1181\u001b[0m     \u001b[0;32melse\u001b[0m\u001b[0;34m:\u001b[0m\u001b[0;34m\u001b[0m\u001b[0;34m\u001b[0m\u001b[0m\n\u001b[1;32m   1182\u001b[0m       \u001b[0mresults\u001b[0m \u001b[0;34m=\u001b[0m \u001b[0;34m[\u001b[0m\u001b[0;34m]\u001b[0m\u001b[0;34m\u001b[0m\u001b[0;34m\u001b[0m\u001b[0m\n",
      "\u001b[0;32m~/Учеба/Мага/giis/env/lib/python3.7/site-packages/tensorflow_core/python/client/session.py\u001b[0m in \u001b[0;36m_do_run\u001b[0;34m(self, handle, target_list, fetch_list, feed_dict, options, run_metadata)\u001b[0m\n\u001b[1;32m   1357\u001b[0m     \u001b[0;32mif\u001b[0m \u001b[0mhandle\u001b[0m \u001b[0;32mis\u001b[0m \u001b[0;32mNone\u001b[0m\u001b[0;34m:\u001b[0m\u001b[0;34m\u001b[0m\u001b[0;34m\u001b[0m\u001b[0m\n\u001b[1;32m   1358\u001b[0m       return self._do_call(_run_fn, feeds, fetches, targets, options,\n\u001b[0;32m-> 1359\u001b[0;31m                            run_metadata)\n\u001b[0m\u001b[1;32m   1360\u001b[0m     \u001b[0;32melse\u001b[0m\u001b[0;34m:\u001b[0m\u001b[0;34m\u001b[0m\u001b[0;34m\u001b[0m\u001b[0m\n\u001b[1;32m   1361\u001b[0m       \u001b[0;32mreturn\u001b[0m \u001b[0mself\u001b[0m\u001b[0;34m.\u001b[0m\u001b[0m_do_call\u001b[0m\u001b[0;34m(\u001b[0m\u001b[0m_prun_fn\u001b[0m\u001b[0;34m,\u001b[0m \u001b[0mhandle\u001b[0m\u001b[0;34m,\u001b[0m \u001b[0mfeeds\u001b[0m\u001b[0;34m,\u001b[0m \u001b[0mfetches\u001b[0m\u001b[0;34m)\u001b[0m\u001b[0;34m\u001b[0m\u001b[0;34m\u001b[0m\u001b[0m\n",
      "\u001b[0;32m~/Учеба/Мага/giis/env/lib/python3.7/site-packages/tensorflow_core/python/client/session.py\u001b[0m in \u001b[0;36m_do_call\u001b[0;34m(self, fn, *args)\u001b[0m\n\u001b[1;32m   1363\u001b[0m   \u001b[0;32mdef\u001b[0m \u001b[0m_do_call\u001b[0m\u001b[0;34m(\u001b[0m\u001b[0mself\u001b[0m\u001b[0;34m,\u001b[0m \u001b[0mfn\u001b[0m\u001b[0;34m,\u001b[0m \u001b[0;34m*\u001b[0m\u001b[0margs\u001b[0m\u001b[0;34m)\u001b[0m\u001b[0;34m:\u001b[0m\u001b[0;34m\u001b[0m\u001b[0;34m\u001b[0m\u001b[0m\n\u001b[1;32m   1364\u001b[0m     \u001b[0;32mtry\u001b[0m\u001b[0;34m:\u001b[0m\u001b[0;34m\u001b[0m\u001b[0;34m\u001b[0m\u001b[0m\n\u001b[0;32m-> 1365\u001b[0;31m       \u001b[0;32mreturn\u001b[0m \u001b[0mfn\u001b[0m\u001b[0;34m(\u001b[0m\u001b[0;34m*\u001b[0m\u001b[0margs\u001b[0m\u001b[0;34m)\u001b[0m\u001b[0;34m\u001b[0m\u001b[0;34m\u001b[0m\u001b[0m\n\u001b[0m\u001b[1;32m   1366\u001b[0m     \u001b[0;32mexcept\u001b[0m \u001b[0merrors\u001b[0m\u001b[0;34m.\u001b[0m\u001b[0mOpError\u001b[0m \u001b[0;32mas\u001b[0m \u001b[0me\u001b[0m\u001b[0;34m:\u001b[0m\u001b[0;34m\u001b[0m\u001b[0;34m\u001b[0m\u001b[0m\n\u001b[1;32m   1367\u001b[0m       \u001b[0mmessage\u001b[0m \u001b[0;34m=\u001b[0m \u001b[0mcompat\u001b[0m\u001b[0;34m.\u001b[0m\u001b[0mas_text\u001b[0m\u001b[0;34m(\u001b[0m\u001b[0me\u001b[0m\u001b[0;34m.\u001b[0m\u001b[0mmessage\u001b[0m\u001b[0;34m)\u001b[0m\u001b[0;34m\u001b[0m\u001b[0;34m\u001b[0m\u001b[0m\n",
      "\u001b[0;32m~/Учеба/Мага/giis/env/lib/python3.7/site-packages/tensorflow_core/python/client/session.py\u001b[0m in \u001b[0;36m_run_fn\u001b[0;34m(feed_dict, fetch_list, target_list, options, run_metadata)\u001b[0m\n\u001b[1;32m   1348\u001b[0m       \u001b[0mself\u001b[0m\u001b[0;34m.\u001b[0m\u001b[0m_extend_graph\u001b[0m\u001b[0;34m(\u001b[0m\u001b[0;34m)\u001b[0m\u001b[0;34m\u001b[0m\u001b[0;34m\u001b[0m\u001b[0m\n\u001b[1;32m   1349\u001b[0m       return self._call_tf_sessionrun(options, feed_dict, fetch_list,\n\u001b[0;32m-> 1350\u001b[0;31m                                       target_list, run_metadata)\n\u001b[0m\u001b[1;32m   1351\u001b[0m \u001b[0;34m\u001b[0m\u001b[0m\n\u001b[1;32m   1352\u001b[0m     \u001b[0;32mdef\u001b[0m \u001b[0m_prun_fn\u001b[0m\u001b[0;34m(\u001b[0m\u001b[0mhandle\u001b[0m\u001b[0;34m,\u001b[0m \u001b[0mfeed_dict\u001b[0m\u001b[0;34m,\u001b[0m \u001b[0mfetch_list\u001b[0m\u001b[0;34m)\u001b[0m\u001b[0;34m:\u001b[0m\u001b[0;34m\u001b[0m\u001b[0;34m\u001b[0m\u001b[0m\n",
      "\u001b[0;32m~/Учеба/Мага/giis/env/lib/python3.7/site-packages/tensorflow_core/python/client/session.py\u001b[0m in \u001b[0;36m_call_tf_sessionrun\u001b[0;34m(self, options, feed_dict, fetch_list, target_list, run_metadata)\u001b[0m\n\u001b[1;32m   1441\u001b[0m     return tf_session.TF_SessionRun_wrapper(self._session, options, feed_dict,\n\u001b[1;32m   1442\u001b[0m                                             \u001b[0mfetch_list\u001b[0m\u001b[0;34m,\u001b[0m \u001b[0mtarget_list\u001b[0m\u001b[0;34m,\u001b[0m\u001b[0;34m\u001b[0m\u001b[0;34m\u001b[0m\u001b[0m\n\u001b[0;32m-> 1443\u001b[0;31m                                             run_metadata)\n\u001b[0m\u001b[1;32m   1444\u001b[0m \u001b[0;34m\u001b[0m\u001b[0m\n\u001b[1;32m   1445\u001b[0m   \u001b[0;32mdef\u001b[0m \u001b[0m_call_tf_sessionprun\u001b[0m\u001b[0;34m(\u001b[0m\u001b[0mself\u001b[0m\u001b[0;34m,\u001b[0m \u001b[0mhandle\u001b[0m\u001b[0;34m,\u001b[0m \u001b[0mfeed_dict\u001b[0m\u001b[0;34m,\u001b[0m \u001b[0mfetch_list\u001b[0m\u001b[0;34m)\u001b[0m\u001b[0;34m:\u001b[0m\u001b[0;34m\u001b[0m\u001b[0;34m\u001b[0m\u001b[0m\n",
      "\u001b[0;31mKeyboardInterrupt\u001b[0m: "
     ]
    }
   ],
   "source": [
    "# SGD\n",
    "train_step = tf.train.AdagradOptimizer(learning_rate=1e-4).minimize(cross_entropy)\n",
    "correct_prediction = tf.equal(tf.argmax(y_conv, 1), tf.argmax(y_, 1))\n",
    "accuracy = tf.reduce_mean(tf.cast(correct_prediction, tf.float32))\n",
    "\n",
    "with tf.Session() as sess:\n",
    "    sess.run(tf.global_variables_initializer())\n",
    "    start_time = time.time()\n",
    "\n",
    "    for i in range(50000):\n",
    "        batch = mnist.train.next_batch(50)\n",
    "        if i % 100 == 0:\n",
    "            train_accuracy = sess.run(\n",
    "                accuracy, feed_dict={x: batch[0], y_: batch[1], keep_prob: 1.0}\n",
    "            )\n",
    "            print(\"time {} , step {} , training accuracy {}\".format(\n",
    "                time.time() - start_time, i, train_accuracy\n",
    "            ))\n",
    "        sess.run(train_step, feed_dict={x: batch[0], y_: batch[1], keep_prob: 0.5})\n",
    "\n",
    "    X = mnist.test.images.reshape(10, 1000, 784)\n",
    "    Y = mnist.test.labels.reshape(10, 1000, 10)\n",
    "    test_accuracy = np.mean(\n",
    "        [\n",
    "            sess.run(accuracy, feed_dict={x: X[i], y_: Y[i], keep_prob: 1.0})\n",
    "            for i in range(10)\n",
    "        ]\n",
    "    )\n",
    "    print(\" test accuracy : {}\".format(test_accuracy))\n"
   ]
  },
  {
   "cell_type": "code",
   "execution_count": 9,
   "metadata": {},
   "outputs": [],
   "source": [
    "from tensorflow . python . keras . datasets import cifar10"
   ]
  },
  {
   "cell_type": "code",
   "execution_count": 10,
   "metadata": {},
   "outputs": [
    {
     "name": "stdout",
     "output_type": "stream",
     "text": [
      "Downloading data from https://www.cs.toronto.edu/~kriz/cifar-10-python.tar.gz\n",
      "170500096/170498071 [==============================] - 29s 0us/step\n"
     ]
    }
   ],
   "source": [
    "(x_train, y_train), (x_test, y_test) = cifar10.load_data()"
   ]
  },
  {
   "cell_type": "code",
   "execution_count": null,
   "metadata": {},
   "outputs": [],
   "source": []
  }
 ],
 "metadata": {
  "kernelspec": {
   "display_name": "Python 3",
   "language": "python",
   "name": "python3"
  },
  "language_info": {
   "codemirror_mode": {
    "name": "ipython",
    "version": 3
   },
   "file_extension": ".py",
   "mimetype": "text/x-python",
   "name": "python",
   "nbconvert_exporter": "python",
   "pygments_lexer": "ipython3",
   "version": "3.7.5"
  }
 },
 "nbformat": 4,
 "nbformat_minor": 4
}
